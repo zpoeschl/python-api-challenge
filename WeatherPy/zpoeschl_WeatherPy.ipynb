{
 "cells": [
  {
   "cell_type": "markdown",
   "metadata": {},
   "source": [
    "# WeatherPy"
   ]
  },
  {
   "cell_type": "code",
   "execution_count": 1,
   "metadata": {
    "scrolled": true
   },
   "outputs": [],
   "source": [
    "# Dependencies and Setup\n",
    "import matplotlib.pyplot as plt\n",
    "import pandas as pd\n",
    "import numpy as np\n",
    "import requests\n",
    "import time\n",
    "from scipy.stats import linregress\n",
    "\n",
    "# Import API key\n",
    "from api_keys import weather_api_key\n",
    "\n",
    "# Incorporated citipy to determine city based on latitude and longitude\n",
    "from citipy import citipy\n",
    "\n",
    "# Output File (CSV)\n",
    "output_data_file = \"output_data/cities.csv\"\n",
    "\n",
    "# Range of latitudes and longitudes\n",
    "lat_range = (-90, 90)\n",
    "lng_range = (-180, 180)"
   ]
  },
  {
   "cell_type": "markdown",
   "metadata": {},
   "source": [
    "## Generate Cities List"
   ]
  },
  {
   "cell_type": "code",
   "execution_count": 2,
   "metadata": {},
   "outputs": [
    {
     "data": {
      "text/plain": [
       "610"
      ]
     },
     "execution_count": 2,
     "metadata": {},
     "output_type": "execute_result"
    }
   ],
   "source": [
    "# Save config information\n",
    "url = \"http://api.openweathermap.org/data/2.5/weather?\"\n",
    "units = \"metric\"\n",
    "\n",
    "# Build query URL\n",
    "query_url = f\"{url}appid={weather_api_key}&units={units}&q=\"\n",
    "\n",
    "# List to hold responses (storing name, lat dups for simplicity of moving into dictionary)\n",
    "city_num = []\n",
    "city_name = []\n",
    "lat = []\n",
    "lng = []\n",
    "temp = []\n",
    "humidity = []\n",
    "clouds = []\n",
    "wind_speed = []\n",
    "\n",
    "# Loop through cities list to perform a request for info on each\n",
    "for city in cities:\n",
    "    \n",
    "    # Create query, make request, and store in json\n",
    "    weather_response = requests.get(query_url + city).json()\n",
    "    \n",
    "    # Grab data where available\n",
    "    try:\n",
    "        city_num.append(weather_response['id'])\n",
    "        city_name.append(weather_response['name'])\n",
    "        lat.append(weather_response['coord']['lat'])\n",
    "        lng.append(weather_response['coord']['lng'])\n",
    "        temp.append(weather_response['main']['temp'])\n",
    "        humidity.append(weather_response['main']['humidity'])\n",
    "        clouds.append(weather_response['clouds']['all'])\n",
    "        wind_speed.append(weather_response['wind']['speed'])\n",
    "    \n",
    "    # If any fields are blank, do not append to lists\n",
    "    except:\n",
    "        pass\n",
    "    \n",
    "    # Add interval between queries to stay within API query limits\n",
    "    time.sleep(1)\n",
    "\n",
    "    for x in city_num:\n",
    "        # Print log\n",
    "        print(f\"The weather API responded with: {city_num},{city_name}.\")"
   ]
  },
  {
   "cell_type": "markdown",
   "metadata": {},
   "source": [
    "### Convert Raw Data to DataFrame\n",
    "* Export the city data into a .csv.\n",
    "* Display the DataFrame"
   ]
  },
  {
   "cell_type": "code",
   "execution_count": null,
   "metadata": {},
   "outputs": [],
   "source": [
    "# Create dictionary to hold response data for conversion into dataframe\n",
    "weather_dict = {\n",
    "    \"city id\": city_num,\n",
    "    \"city\": city_name,\n",
    "    \"lat\": lat,\n",
    "    \"temp\": temp,\n",
    "    \"humidity\": humidity,\n",
    "    \"cloudiness\": clouds,\n",
    "    \"wind speed\": wind_speed    \n",
    "}\n",
    "\n",
    "# Create dataframe\n",
    "cities_df = pd.DataFrame(weather_dict)\n",
    "\n",
    "# Display dataframe\n",
    "cities_df.head()"
   ]
  },
  {
   "cell_type": "code",
   "execution_count": null,
   "metadata": {},
   "outputs": [],
   "source": [
    "cities_df.to_csv(\"cities.csv\")"
   ]
  },
  {
   "cell_type": "markdown",
   "metadata": {},
   "source": [
    "## Inspect the data and remove the cities where the humidity > 100%.\n",
    "----\n",
    "Skip this step if there are no cities that have humidity > 100%. "
   ]
  },
  {
   "cell_type": "code",
   "execution_count": null,
   "metadata": {},
   "outputs": [],
   "source": [
    "# Import cities.csv so API doesn't need to be called again to work with data\n",
    "final_cities = \"cities.csv\"\n",
    "\n",
    "final_cities_df = pd.read_csv(final_cities)\n",
    "final_cities_df.drop([\"Unnamed: 0\"], axis=1, inplace=True)\n",
    "\n",
    "final_cities_df.head()"
   ]
  },
  {
   "cell_type": "code",
   "execution_count": null,
   "metadata": {},
   "outputs": [],
   "source": [
    "# Get the indices of cities that have humidity over 100%.\n",
    "humidity_error = final_cities_df.loc[final_cities_df[\"humidity\"] > 100]\n",
    "humidity_error"
   ]
  },
  {
   "cell_type": "markdown",
   "metadata": {},
   "source": [
    "## Plotting the Data\n",
    "* Use proper labeling of the plots using plot titles (including date of analysis) and axes labels.\n",
    "* Save the plotted figures as .pngs."
   ]
  },
  {
   "cell_type": "markdown",
   "metadata": {},
   "source": [
    "## Latitude vs. Temperature Plot"
   ]
  },
  {
   "cell_type": "code",
   "execution_count": null,
   "metadata": {
    "scrolled": true
   },
   "outputs": [],
   "source": [
    "plt.scatter(final_cities_df.iloc[:,2],final_cities_df.iloc[:,3])\n",
    "plt.xlabel(\"Latitude\")\n",
    "plt.ylabel(\"Temperature (C)\")\n",
    "plt.title(\"Latitude vs. Temperature\")\n",
    "plt.show()\n",
    "\n",
    "# Save as .png\n",
    "plt.savefig('lat_temp.png')"
   ]
  },
  {
   "cell_type": "markdown",
   "metadata": {},
   "source": [
    "## Latitude vs. Humidity Plot"
   ]
  },
  {
   "cell_type": "code",
   "execution_count": null,
   "metadata": {},
   "outputs": [],
   "source": [
    "plt.scatter(final_cities_df.iloc[:,2],final_cities_df.iloc[:,4])\n",
    "plt.xlabel(\"Latitude\")\n",
    "plt.ylabel(\"Humidity\")\n",
    "plt.title(\"Latitude vs. Humidity\")\n",
    "plt.show()\n",
    "\n",
    "# Save as .png\n",
    "plt.savefig('lat_hum.png')"
   ]
  },
  {
   "cell_type": "markdown",
   "metadata": {},
   "source": [
    "## Latitude vs. Cloudiness Plot"
   ]
  },
  {
   "cell_type": "code",
   "execution_count": null,
   "metadata": {},
   "outputs": [],
   "source": [
    "plt.scatter(final_cities_df.iloc[:,2],final_cities_df.iloc[:,5])\n",
    "plt.xlabel(\"Latitude\")\n",
    "plt.ylabel(\"Cloudiness\")\n",
    "plt.title(\"Latitude vs. Cloudiness\")\n",
    "plt.show()\n",
    "\n",
    "# Save as .png\n",
    "plt.savefig('lat_clouds.png')"
   ]
  },
  {
   "cell_type": "markdown",
   "metadata": {},
   "source": [
    "## Latitude vs. Wind Speed Plot"
   ]
  },
  {
   "cell_type": "code",
   "execution_count": null,
   "metadata": {},
   "outputs": [],
   "source": [
    "plt.scatter(final_cities_df.iloc[:,2],final_cities_df.iloc[:,6])\n",
    "plt.xlabel(\"Latitude\")\n",
    "plt.ylabel(\"Wind Speed\")\n",
    "plt.title(\"Latitude vs. Wind Speed\")\n",
    "plt.show()\n",
    "\n",
    "# Save as .png\n",
    "plt.savefig('lat_wind.png')"
   ]
  },
  {
   "cell_type": "markdown",
   "metadata": {},
   "source": [
    "## Linear Regression"
   ]
  },
  {
   "cell_type": "code",
   "execution_count": null,
   "metadata": {},
   "outputs": [],
   "source": [
    "# Create northern hemisphere dataframe\n",
    "northern_hem = final_cities_df[[\"city id\", \"city\", \"lat\", \"temp\", \"humidity\", \"cloudiness\",\n",
    "                                \"wind speed\"]].loc[(final_cities_df[\"lat\"] >= 0)]\n",
    "\n",
    "# Create southern hemisphere dataframe\n",
    "southern_hem = final_cities_df[[\"city id\", \"city\", \"lat\", \"temp\", \"humidity\", \"cloudiness\",\n",
    "                                \"wind speed\"]].loc[(final_cities_df[\"lat\"] <= 0)]"
   ]
  },
  {
   "cell_type": "markdown",
   "metadata": {},
   "source": [
    "####  Northern Hemisphere - Max Temp vs. Latitude Linear Regression"
   ]
  },
  {
   "cell_type": "code",
   "execution_count": null,
   "metadata": {},
   "outputs": [],
   "source": [
    "# Create scatter plot\n",
    "plt.scatter(northern_hem.iloc[:,2],northern_hem.iloc[:,3])\n",
    "plt.xlabel(\"Latitude\")\n",
    "plt.ylabel(\"Temperature (C)\")\n",
    "plt.title(\"Latitude vs. Temperature, Northern Hemisphere\")\n",
    "\n",
    "# Calculate and apply linear regression\n",
    "(slope, intercept, rvalue, pvalue, stderr) = linregress(northern_hem.iloc[:,2],northern_hem.iloc[:,3])\n",
    "regress_values_north_temp = northern_hem.iloc[:,2] * slope + intercept\n",
    "line_eq_north_temp = \"y = \" + str(round(slope,2)) + \"x + \" + str(round(intercept,2))\n",
    "plt.plot(northern_hem.iloc[:,2],regress_values_north_temp,\"r-\")\n",
    "plt.annotate(line_eq_north_temp,(0,-35),fontsize=15,color=\"red\")\n",
    "\n",
    "plt.show()\n",
    "\n",
    "# Save as .png\n",
    "plt.savefig('lat_north_temp.png')"
   ]
  },
  {
   "cell_type": "markdown",
   "metadata": {},
   "source": [
    "####  Southern Hemisphere - Max Temp vs. Latitude Linear Regression"
   ]
  },
  {
   "cell_type": "code",
   "execution_count": null,
   "metadata": {},
   "outputs": [],
   "source": [
    "# Create scatter plot\n",
    "plt.scatter(southern_hem.iloc[:,2],southern_hem.iloc[:,3])\n",
    "plt.xlabel(\"Latitude\")\n",
    "plt.ylabel(\"Temperature (C)\")\n",
    "plt.title(\"Latitude vs. Temperature, Southern Hemisphere\")\n",
    "\n",
    "# Calculate and apply linear regression\n",
    "(slope, intercept, rvalue, pvalue, stderr) = linregress(southern_hem.iloc[:,2],southern_hem.iloc[:,3])\n",
    "regress_values_south_temp = southern_hem.iloc[:,2] * slope + intercept\n",
    "line_eq_south_temp = \"y = \" + str(round(slope,2)) + \"x + \" + str(round(intercept,2))\n",
    "plt.plot(southern_hem.iloc[:,2],regress_values_south_temp,\"r-\")\n",
    "plt.annotate(line_eq_south_temp,(-45,5),fontsize=15,color=\"red\")\n",
    "\n",
    "plt.show()\n",
    "\n",
    "# Save as .png\n",
    "plt.savefig('lat_south_temp.png')"
   ]
  },
  {
   "cell_type": "markdown",
   "metadata": {},
   "source": [
    "####  Northern Hemisphere - Humidity (%) vs. Latitude Linear Regression"
   ]
  },
  {
   "cell_type": "code",
   "execution_count": null,
   "metadata": {},
   "outputs": [],
   "source": [
    "# Create scatter plot\n",
    "plt.scatter(northern_hem.iloc[:,2],northern_hem.iloc[:,4])\n",
    "plt.xlabel(\"Latitude\")\n",
    "plt.ylabel(\"Humidity\")\n",
    "plt.title(\"Latitude vs. Humidity, Northern Hemisphere\")\n",
    "\n",
    "# Calculate and apply linear regression\n",
    "(slope, intercept, rvalue, pvalue, stderr) = linregress(northern_hem.iloc[:,2],northern_hem.iloc[:,4])\n",
    "regress_values_north_hum = northern_hem.iloc[:,2] * slope + intercept\n",
    "line_eq_north_hum = \"y = \" + str(round(slope,2)) + \"x + \" + str(round(intercept,2))\n",
    "plt.plot(northern_hem.iloc[:,2],regress_values_north_hum,\"r-\")\n",
    "plt.annotate(line_eq_north_hum,(40,35),fontsize=15,color=\"red\")\n",
    "\n",
    "plt.show()\n",
    "\n",
    "# Save as .png\n",
    "plt.savefig('lat_north_hum.png')"
   ]
  },
  {
   "cell_type": "markdown",
   "metadata": {},
   "source": [
    "####  Southern Hemisphere - Humidity (%) vs. Latitude Linear Regression"
   ]
  },
  {
   "cell_type": "code",
   "execution_count": null,
   "metadata": {},
   "outputs": [],
   "source": [
    "# Create scatter plot\n",
    "plt.scatter(southern_hem.iloc[:,2],southern_hem.iloc[:,4])\n",
    "plt.xlabel(\"Latitude\")\n",
    "plt.ylabel(\"Humidity\")\n",
    "plt.title(\"Latitude vs. Humidity, Southern Hemisphere\")\n",
    "\n",
    "# Calculate and apply linear regression\n",
    "(slope, intercept, rvalue, pvalue, stderr) = linregress(southern_hem.iloc[:,2],southern_hem.iloc[:,4])\n",
    "regress_values_south_hum = southern_hem.iloc[:,2] * slope + intercept\n",
    "line_eq_south_hem = \"y = \" + str(round(slope,2)) + \"x + \" + str(round(intercept,2))\n",
    "plt.plot(southern_hem.iloc[:,2],regress_values_south_hum,\"r-\")\n",
    "plt.annotate(line_eq_south_hem,(-25,21),fontsize=15,color=\"red\")\n",
    "\n",
    "plt.show()\n",
    "\n",
    "# Save as .png\n",
    "plt.savefig('lat_south_hum.png')"
   ]
  },
  {
   "cell_type": "markdown",
   "metadata": {},
   "source": [
    "####  Northern Hemisphere - Cloudiness (%) vs. Latitude Linear Regression"
   ]
  },
  {
   "cell_type": "code",
   "execution_count": null,
   "metadata": {},
   "outputs": [],
   "source": [
    "# Create scatter plot\n",
    "plt.scatter(northern_hem.iloc[:,2],northern_hem.iloc[:,5])\n",
    "plt.xlabel(\"Latitude\")\n",
    "plt.ylabel(\"Cloudiness\")\n",
    "plt.title(\"Latitude vs. Cloudiness, Northern Hemisphere\")\n",
    "\n",
    "# Calculate and apply linear regression\n",
    "(slope, intercept, rvalue, pvalue, stderr) = linregress(northern_hem.iloc[:,2],northern_hem.iloc[:,5])\n",
    "regress_values_north_cloud = northern_hem.iloc[:,2] * slope + intercept\n",
    "line_eq_north_cloud = \"y = \" + str(round(slope,2)) + \"x + \" + str(round(intercept,2))\n",
    "plt.plot(northern_hem.iloc[:,2],regress_values_north_cloud,\"r-\")\n",
    "plt.annotate(line_eq_north_cloud,(40,60),fontsize=15,color=\"red\")\n",
    "\n",
    "plt.show()\n",
    "\n",
    "# Save as .png\n",
    "plt.savefig('lat_north_clouds.png')"
   ]
  },
  {
   "cell_type": "markdown",
   "metadata": {},
   "source": [
    "####  Southern Hemisphere - Cloudiness (%) vs. Latitude Linear Regression"
   ]
  },
  {
   "cell_type": "code",
   "execution_count": null,
   "metadata": {},
   "outputs": [],
   "source": [
    "# Create scatter plot\n",
    "plt.scatter(southern_hem.iloc[:,2],southern_hem.iloc[:,5])\n",
    "plt.xlabel(\"Latitude\")\n",
    "plt.ylabel(\"Cloudiness\")\n",
    "plt.title(\"Latitude vs. Cloudiness, Southern Hemisphere\")\n",
    "\n",
    "# Calculate and apply linear regression\n",
    "(slope, intercept, rvalue, pvalue, stderr) = linregress(southern_hem.iloc[:,2],southern_hem.iloc[:,5])\n",
    "regress_values_south_cloud = southern_hem.iloc[:,2] * slope + intercept\n",
    "line_eq_south_cloud = \"y = \" + str(round(slope,2)) + \"x + \" + str(round(intercept,2))\n",
    "plt.plot(southern_hem.iloc[:,2],regress_values_south_cloud,\"r-\")\n",
    "plt.annotate(line_eq_south_cloud,(-55,25),fontsize=15,color=\"red\")\n",
    "\n",
    "plt.show()\n",
    "\n",
    "# Save as .png\n",
    "plt.savefig('lat_south_clouds.png')"
   ]
  },
  {
   "cell_type": "markdown",
   "metadata": {},
   "source": [
    "####  Northern Hemisphere - Wind Speed (mph) vs. Latitude Linear Regression"
   ]
  },
  {
   "cell_type": "code",
   "execution_count": null,
   "metadata": {},
   "outputs": [],
   "source": [
    "# Create scatter plot\n",
    "plt.scatter(northern_hem.iloc[:,2],northern_hem.iloc[:,6])\n",
    "plt.xlabel(\"Latitude\")\n",
    "plt.ylabel(\"Wind Speed\")\n",
    "plt.title(\"Latitude vs. Wind Speed, Northern Hemisphere\")\n",
    "\n",
    "# Calculate and apply linear regression\n",
    "(slope, intercept, rvalue, pvalue, stderr) = linregress(northern_hem.iloc[:,2],northern_hem.iloc[:,6])\n",
    "regress_values_north_wind = northern_hem.iloc[:,2] * slope + intercept\n",
    "line_eq_north_wind = \"y = \" + str(round(slope,2)) + \"x + \" + str(round(intercept,2))\n",
    "plt.plot(northern_hem.iloc[:,2],regress_values_north_wind,\"r-\")\n",
    "plt.annotate(line_eq_north_wind,(2,18),fontsize=15,color=\"red\")\n",
    "\n",
    "plt.show()\n",
    "\n",
    "# Save as .png\n",
    "plt.savefig('lat_north_wind.png')"
   ]
  },
  {
   "cell_type": "markdown",
   "metadata": {},
   "source": [
    "####  Southern Hemisphere - Wind Speed (mph) vs. Latitude Linear Regression"
   ]
  },
  {
   "cell_type": "code",
   "execution_count": null,
   "metadata": {},
   "outputs": [],
   "source": [
    "# Create scatter plot\n",
    "plt.scatter(southern_hem.iloc[:,2],southern_hem.iloc[:,6])\n",
    "plt.xlabel(\"Latitude\")\n",
    "plt.ylabel(\"Wind Speed\")\n",
    "plt.title(\"Latitude vs. Wind Speed, Southern Hemisphere\")\n",
    "\n",
    "# Calculate and apply linear regression\n",
    "(slope, intercept, rvalue, pvalue, stderr) = linregress(southern_hem.iloc[:,2],southern_hem.iloc[:,6])\n",
    "regress_values_south_wind = southern_hem.iloc[:,2] * slope + intercept\n",
    "line_eq_south_wind = \"y = \" + str(round(slope,2)) + \"x + \" + str(round(intercept,2))\n",
    "plt.plot(southern_hem.iloc[:,2],regress_values_south_wind,\"r-\")\n",
    "plt.annotate(line_eq_south_wind,(-25,13),fontsize=15,color=\"red\")\n",
    "\n",
    "plt.show()\n",
    "\n",
    "# Save as .png\n",
    "plt.savefig('lat_south_wind.png')"
   ]
  }
 ],
 "metadata": {
  "anaconda-cloud": {},
  "kernel_info": {
   "name": "python3"
  },
  "kernelspec": {
   "display_name": "Python 3",
   "language": "python",
   "name": "python3"
  },
  "language_info": {
   "codemirror_mode": {
    "name": "ipython",
    "version": 3
   },
   "file_extension": ".py",
   "mimetype": "text/x-python",
   "name": "python",
   "nbconvert_exporter": "python",
   "pygments_lexer": "ipython3",
   "version": "3.6.10"
  },
  "latex_envs": {
   "LaTeX_envs_menu_present": true,
   "autoclose": false,
   "autocomplete": true,
   "bibliofile": "biblio.bib",
   "cite_by": "apalike",
   "current_citInitial": 1,
   "eqLabelWithNumbers": true,
   "eqNumInitial": 1,
   "hotkeys": {
    "equation": "Ctrl-E",
    "itemize": "Ctrl-I"
   },
   "labels_anchors": false,
   "latex_user_defs": false,
   "report_style_numbering": false,
   "user_envs_cfg": false
  },
  "nteract": {
   "version": "0.12.3"
  }
 },
 "nbformat": 4,
 "nbformat_minor": 2
}
