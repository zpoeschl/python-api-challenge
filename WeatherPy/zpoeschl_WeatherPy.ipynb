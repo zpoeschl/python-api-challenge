{
 "cells": [
  {
   "cell_type": "markdown",
   "metadata": {},
   "source": [
    "# WeatherPy"
   ]
  },
  {
   "cell_type": "code",
   "execution_count": 1,
   "metadata": {
    "scrolled": true
   },
   "outputs": [],
   "source": [
    "# Dependencies and Setup\n",
    "import matplotlib.pyplot as plt\n",
    "import pandas as pd\n",
    "import numpy as np\n",
    "import requests\n",
    "import time\n",
    "from scipy.stats import linregress\n",
    "\n",
    "# Import API key\n",
    "from api_keys import weather_api_key\n",
    "\n",
    "# Incorporated citipy to determine city based on latitude and longitude\n",
    "from citipy import citipy\n",
    "\n",
    "# Output File (CSV)\n",
    "output_data_file = \"output_data/cities.csv\"\n",
    "\n",
    "# Range of latitudes and longitudes\n",
    "lat_range = (-90, 90)\n",
    "lng_range = (-180, 180)"
   ]
  },
  {
   "cell_type": "markdown",
   "metadata": {},
   "source": [
    "## Generate Cities List"
   ]
  },
  {
   "cell_type": "code",
   "execution_count": 2,
   "metadata": {},
   "outputs": [
    {
     "data": {
      "text/plain": [
       "593"
      ]
     },
     "execution_count": 2,
     "metadata": {},
     "output_type": "execute_result"
    }
   ],
   "source": [
    "# List for holding lat_lngs and cities\n",
    "lat_lngs = []\n",
    "cities = []\n",
    "\n",
    "# Create a set of random lat and lng combinations\n",
    "lats = np.random.uniform(lat_range[0], lat_range[1], size=1500)\n",
    "lngs = np.random.uniform(lng_range[0], lng_range[1], size=1500)\n",
    "lat_lngs = zip(lats, lngs)\n",
    "\n",
    "# Identify nearest city for each lat, lng combination\n",
    "for lat_lng in lat_lngs:\n",
    "    city = citipy.nearest_city(lat_lng[0], lat_lng[1]).city_name\n",
    "    \n",
    "    # If the city is unique, then add it to a our cities list\n",
    "    if city not in cities:\n",
    "        cities.append(city)\n",
    "\n",
    "# Print the city count to confirm sufficient count\n",
    "len(cities)"
   ]
  },
  {
   "cell_type": "markdown",
   "metadata": {},
   "source": [
    "### Perform API Calls\n",
    "* Perform a weather check on each city using a series of successive API calls.\n",
    "* Include a print log of each city as it's being processed (with the city number and city name).\n"
   ]
  },
  {
   "cell_type": "code",
   "execution_count": 3,
   "metadata": {
    "scrolled": true
   },
   "outputs": [
    {
     "name": "stdout",
     "output_type": "stream",
     "text": [
      "The weather API responded with: [3369157, 2017155, 4031637, 2075265, 3402648, 3874787, 4032243, 6201424, 2510075, 2015306, 3576994, 2108502, 1486321, 3439525, 3663142, 933995, 1816336, 1629965, 3448903, 2396853, 1651810, 3420768, 6185377, 935215, 2961459, 2109701, 2264557, 4030556, 2939623, 2632287, 3833367, 5866583, 1633419, 5855927, 1633034, 2110227, 1337607, 139889, 1684803, 212730, 3471451, 5880054, 3382226, 1735106, 964432, 6062069, 1490918, 2155415, 1637001, 480267, 2122090, 3439389, 3403395, 3430863, 5122534, 2136825, 5364271, 1495626, 1254046, 3440777, 3984997, 1737486, 3424607, 3995236, 214575, 3374210, 2304548, 2163355, 5848280, 1337619, 3083829, 2618795, 3839307, 5106841, 2177254, 3466165, 2068655, 3361934, 4033557, 3421765, 2070998, 3372707, 2392087, 2126199, 1514792, 1006984, 3393536, 3120811, 2122493, 2093967, 4272340, 2331939, 2126123, 546105, 5882953, 1491267, 5282297, 4034551, 2138555, 5095779, 3366880, 5797693, 2206939, 3389822, 2729907, 1510689, 3466980, 3894426, 4020109, 4036284, 5558953, 1263752, 1701394, 3652764, 3418910, 3935624, 1526970, 964420, 4231997, 6089245, 918702, 1819729, 2090021, 5983720, 2208248, 5962442, 2078025, 3416888, 1716019, 6355222, 2063056, 1649150, 4047434, 3385077, 6165406, 1490256, 921889, 6149996, 5914132, 2641434, 6170031, 3414079, 2738381, 2021799, 3373652, 5557293, 6180550, 2027296, 2276492, 2180815, 4219934, 2013392, 3374120, 6255012, 3883457, 2063042, 3466704, 2181625, 3831208, 2155742, 110690, 3980782, 4406282, 778362, 169389, 2074865, 1162105, 1280037, 1516589, 1640344, 4031742, 5563839, 2094027, 292968, 1529484, 877532, 3443061, 2446796, 3386213, 1062663, 3580733, 6113406, 2450173, 3374083, 2020208, 5924351, 2028164, 777019, 2095038, 4031574, 3489440, 3448892, 1785974, 5859699, 4035715, 124862, 3838859, 3423146, 2092164, 3864331, 2123814, 3430443, 3662155, 1067565, 2164691, 3515410, 6690297, 3347019, 3628473, 1488414, 3445026, 3404558, 2246451, 1213855, 3437962, 2036892, 2094342, 1507390, 4328010, 1278176, 286987, 1789271, 3392126, 3832899, 934322, 3161622, 3691582, 6111862, 3403251, 1282256, 901766, 3868626, 3443341, 4021858, 3946820, 3157549, 5546220, 2112802, 933390, 2022572, 3836873, 3926462, 1015776, 728674, 286621, 2091996, 3356832, 3372745, 1853174, 5733351, 2281120, 2541479, 1507116, 3382160, 216281, 2194098, 3132644, 102527, 3450206, 6096551, 3860443, 1045114, 2168305, 2156643, 934479, 3123493, 3374333, 2016910, 4705086, 2522875, 3647444, 2132606, 3175788, 5989403, 3673407, 4255151, 4333811, 2171099, 214389, 1058080, 7341918, 1511381, 3139597, 2460489, 1242110, 1268008, 3664321, 108410, 3013748, 5026416, 3702577, 2141305, 5380437, 3420846, 1185239, 2112309, 2409215, 5847411, 4006677, 6171633, 3464008, 3533426, 2013727, 1529376, 2311968, 1861280, 2513947, 367544, 3354178, 1215502, 3430545, 6690296, 1790437, 1131461, 986717, 962367, 1264976, 3698359, 2512186, 2112444, 2189343, 7671223, 72181, 4513583, 3893726, 2409783, 2381972, 3996426, 134721, 480876, 3397763, 371745, 3985710, 1563281, 566751, 2176639, 5856516, 2071860, 2013279, 2167426, 474795, 2171722, 132144, 1623180, 2624212, 1796663, 1214488, 3580279, 1732871, 2158767, 5367788, 535839, 1033356, 1505965, 3932145, 3122172, 2269557, 2038087, 6167817, 5110365, 1604771, 5972291, 1540711, 314967, 1120985, 1492607, 6620339, 797213, 1619611, 2126710, 3457859, 945945, 2025241, 3406318, 3354077, 5746545, 3395458, 3105522, 779554, 3356213, 2012530, 5919815, 5338122, 5134295, 933002, 2065176, 2121385, 2035610, 2023584, 1106677, 2521582, 2208091, 1855540, 2412408, 1226260, 2161515, 509483, 2249782, 1282635, 3453060, 1244926, 3393692, 681340, 899274, 5392171, 4588165, 2023298, 2017658, 1712961, 1250161, 286245, 5969025, 2643044, 352628, 3137469, 2982972, 3693584, 3393768, 1295765, 1652203, 3976161, 1733782, 5850554, 2129868, 4726521, 123941, 2640377, 3451663, 690629, 1688781, 2142316, 3421982, 1511276, 1726449, 3620680, 3645532, 2065594, 1174451, 1270185, 2038665, 1606269, 2192362, 4013679, 3514843, 1528796, 368246, 3412093, 549786, 3355672, 359783, 2138687, 2027316, 3866163, 1083724, 2012956, 3871336, 2126785, 4007684, 1259385, 935114, 1643837, 5577158, 1797117, 964090, 7082481, 358172, 2191562, 1490796, 3172728, 3945985, 2058430, 5742974, 1634718, 1282898, 2111884, 2693759, 57000, 2014624, 3421193, 4274307, 1490624, 6160362, 3792382, 5044290, 3405339, 2058682, 3625207, 1805857, 3220856, 2447416, 2157698, 3372964, 2134814, 2137773, 53654, 2063039, 4408672, 2084442, 2381334, 373303, 3577154, 1708743, 5666176, 5919915, 2033667, 3879627, 3933104, 4944903, 3385980, 1648759, 2373951, 1691911, 2121025, 6144312, 2349788, 3452525, 2019323, 2146219, 1608462, 3372783, 1640972, 1507172, 1718367, 2332453, 2208485, 1267433, 2630299, 3557758, 2037311, 1505579, 609919, 3464724, 3529654, 1021360, 901344, 2236967, 568527, 1106643, 5321473, 3419842],['Cape Town', 'Saskylakh', 'Lavrentiya', 'Busselton', 'Carutapera', 'Punta Arenas', 'Vaini', 'Mataura', 'Utiel', 'Tiksi', 'Cockburn Town', 'Honiara', 'Yar-Sale', 'Young', 'Novo Aripuanã', 'Souillac', 'Binzhou', 'Tanete', 'São João da Barra', 'Omboué', 'Airai', 'Qasigiannguit', 'Yellowknife', 'Saint-Philippe', 'Skibbereen', 'Auki', 'Ponta do Sol', 'Rikitea', 'Dachau', 'Dalvik', 'Ushuaia', 'Saint Paul Harbor', 'Padang', 'Hilo', 'Liku', 'Butaritari', 'Kudahuvadhoo', 'Būkān', 'Tabuk', 'Kisangani', 'Arraial do Cabo', 'Barrow', 'Camopi', 'George Town', 'Port Alfred', 'Lunenburg', 'Staryy Nadym', 'New Norfolk', 'Luwuk', 'Turki', 'Pevek', 'Asunción', 'Cândido Mendes', 'Mar del Plata', 'Jamestown', 'Isangel', 'Laguna', 'Pangody', 'Tura', 'Rocha', 'San Quintín', 'Bintulu', 'Tasiilaq', 'Mulegé', 'Kampene', 'São Filipe', 'Anloga', 'Hobart', 'Kapaa', 'Ugoofaaru', 'Szczecin', 'Klaksvík', 'Rawson', 'Albany', 'Bagotville', 'Cidreira', 'Katherine', 'Saldanha', 'Tautira', 'Nanortalik', 'Geraldton', 'Ribeira Grande', 'Porto-Novo', 'Cherskiy', 'Gazojak', 'East London', 'Olinda', 'Hernani', 'Omsukchan', 'Kimbe', 'Great Bend', 'Lokoja', 'Chokurdakh', 'Nikolskoye', 'Aklavik', \"Sos'va\", 'Bethel', 'Faanui', 'Poum', 'Bloomfield', 'Hermanus', 'Hoquiam', 'Bluff', 'Salinópolis', 'Longyearbyen', 'Baykit', 'Caravelas', 'Coyhaique', 'Atuona', 'Alofi', 'Arcata', 'Māngrol', 'Manuk Mangkaw', 'Puerto Ayora', 'Upernavik', 'Macusani', 'Abay', 'Port Elizabeth', 'Avera', 'Norman Wells', 'Chipata', 'Hong Kong', 'Namatanai', 'Iqaluit', 'Kaitangata', 'Goderich', 'Adelaide', 'Grindavik', 'Daliao', 'Yulara', 'Port Augusta', 'Bengkulu', 'Russell', 'Conde', 'Thompson', 'Talnakh', 'Fomboni', 'Smithers', 'Campbell River', 'Northam', 'Tuktoyaktuk', 'Olafsvik', 'Lata', 'Konstantinovka', 'Oistins', 'Sitka', 'Whitehorse', 'Aykhal', 'Harper', 'Tuatapere', 'Roswell', 'Vilyuysk', 'Vila do Maio', 'Flinders', 'Lebu', 'Port Hedland', 'Castro', 'Te Anau', 'Qaanaaq', 'Narrabri', 'Faya', 'Ures', 'Rolla', 'Øksfjord', 'Idlib', 'Carnarvon', 'Zhob', 'Shache', 'Zhezkazgan', 'Kendari', 'Egvekinot', 'Fortuna', 'Kieta', 'Abu Dhabi', 'Kumul', 'Newala', 'Chui', 'Bilma', 'Touros', 'Mahajanga', 'Bodden Town', 'Prince Rupert', 'Taoudenni', 'Bathsheba', 'Ulkan', 'Clyde River', 'Deputatsky', 'Vardø', 'Kainantu', 'Provideniya', 'Morant Bay', 'São João da Ponte', 'Yuci', 'College', 'Avarua', 'Marand', 'Río Gallegos', 'Ilulissat', 'Lorengau', 'Bell Ville', 'Leningradskiy', 'Necochea', 'Sena Madureira', 'Beloha', 'Granville', 'Tlamacazapa', 'Saint-Leu', 'Mossamedes', 'San Cristobal', 'Urengoy', 'Vila Velha', 'Cabedelo', 'Saint-Louis', 'Sibolga', 'Isla Pucú', 'Hohhot', 'Kavieng', 'Dikson', 'Houma', 'Attingal', 'Nizwá', 'Xinan', 'Pilar', 'Viedma', 'Mahébourg', 'Berkåk', 'Talara', 'Port Hardy', 'Canto do Buriti', 'Hithadhoo', 'Namwala', 'Valparaíso', 'Carmelo', 'Guerrero Negro', 'Barranca', 'Finnsnes', 'Saint George', 'Hasaki', 'Kalakamati', 'Khatanga', 'San Miguel de Tucumán', 'Urcos', 'Bredasdorp', 'Obzor', 'Salalah', 'Madang', 'Henties Bay', 'Rabo de Peixe', 'Sakaiminato', 'Jackson', 'Tabou', 'Nador', 'Dudinka', 'Cayenne', 'Goma', 'Ahipara', 'Varhaug', 'Sakakah', 'Santa Helena de Goiás', 'Pangnirtung', 'Comodoro Rivadavia', 'Inhambane', 'Dubbo', 'Mount Gambier', 'Grand Gaube', 'Ferrol', 'Praia', \"Severobaykal'sk\", 'Lamar', 'Province of Trapani', 'Calabozo', 'Samarai', 'Oga', 'Kapuskasing', 'Padilla', 'Bud', 'Morgan City', 'Codrington', 'Kaniama', 'Nosy Varika', 'Moba', 'Aromashevo', 'Sistranda', 'Bandiagara', 'Kalmunai', 'Kanniyākumāri', 'Eirunepé', 'Riyadh', 'Hauterive', 'Fergus Falls', 'Portobelo', 'Fayaoué', 'Pacific Grove', 'Qaqortoq', 'Sarankhola', 'Katsuura', 'Mattru', 'Kahului', 'Escalerillas', 'Ucluelet', 'Esmeraldas', 'Acayucan', 'Vanavara', 'Korla', 'Nioki', 'Itoman', 'Melilla', 'Sawākin', 'Ongandjera', 'Banda Aceh', 'Morón', 'Saint-Joseph', 'Zhuhai', 'Oruzgan', 'Kruisfontein', 'Richards Bay', 'Leh', 'Chicama', 'Puerto del Rosario', 'Kamaishi', 'Kaeo', 'Kloulklubed', 'Marzuq', 'Hamilton', 'Constitución', 'Bunumbu', 'Adrar', 'Matamoros', 'Fasa', 'Tsimlyansk', 'Jacareacanga', 'Kutum', 'Cabo San Lucas', 'Tuy Hoa', 'Demidov', 'Batemans Bay', '‘Āhuimanu', 'Esperance', 'Vostok', 'Emerald', 'Verkhniy Uslon', 'Charters Towers', 'Hamadan', 'Tuban', 'Beder', 'Sanming', 'Meulaboh', 'Gouyave', 'Singkang', 'Mareeba', 'Lompoc', 'Leshukonskoye', 'Nampula', 'Igrim', 'Pisco', 'Foz', 'Castanheira de Pêra', 'Chengde', 'Torbay', 'Broome', 'Yaring', 'Havre-St-Pierre', 'Muravlenko', 'Fethiye', 'Zaranj', 'Severnoye', 'Karratha', 'Pervomayskoye', 'Bang Bo', 'Beringovskiy', 'Maracaju', 'Upington', 'Churapcha', 'Barra do Corda', 'Opuwo', 'Portland', 'Maragogi', 'Bereda', 'Honningsvåg', 'Khorixas', 'Zhigansk', 'Channel-Port aux Basques', 'Clovis', 'Rome', 'Tobane', 'Murray Bridge', \"Severo-Kuril'sk\", 'Nehe', 'Imeni Poliny Osipenko', 'Bambous Virieux', 'Arona', 'Waitara', 'Naze', 'Nioro', 'Trincomalee', 'Kiama', 'Pinega', 'Kolda', 'Tulsīpur', 'Pontes e Lacerda', 'Hambantota', 'Itarema', 'Cleja', 'Samfya', 'San Jose', 'Mt. Pleasant', 'Kalanguy', 'Preobrazheniye', 'Gigmoto', 'Batticaloa', 'Sur', 'Haines Junction', 'Margate', 'Maţāy', 'Sørland', 'Romilly-sur-Seine', 'Pimentel', 'Óbidos', 'Sittwe', 'Xam Nua', 'Adolfo López Mateos', 'Labuan', 'Makakilo City', 'Iwanai', 'San Patricio', 'Mīnāb', 'Penzance', 'Reserva', 'Uspenka', 'City of San Pedro', 'Yeppoon', 'Maniitsoq', 'Atagay', 'Basco', 'Bluefields', 'Ciudad Bolivar', 'Mount Isa', 'Keti Bandar', 'Hatta', 'Alihe', 'Sing Buri', 'Christchurch', 'Coahuayana Viejo', 'Emilio Carranza', 'At-Bashi', 'Raja', 'Vestmannaeyjar', 'Kholm', 'Lüderitz', 'Assiut', 'Ponérihouen', 'Ayan', 'Alta Gracia', 'Ambanja', 'Yerbogachën', 'Santiago', 'Belaya Gora', 'El Salto', 'Port Blair', 'Bhunya', 'Gorontalo', 'Fort Morgan', 'Rongcheng', 'Prieska', 'Khuzdar', 'Dekernes', 'Dunedin', 'Strezhevoy', 'Montespertoli', 'Camaná', 'Whyalla', 'North Bend', 'Muncar', 'Pokhara', 'Miyako', 'Ludvika', 'Hobyo', 'Udachny', 'Paamiut', 'Leavenworth', 'Surgut', 'Swan River', 'Cartagena del Chairá', 'Saint Anthony', 'Bom Jardim', 'Wembley', 'Yaritagua', 'Jieshi', 'Neustadt an der Waldnaab', 'Ayorou', 'Mildura', 'Lagoa', 'Sola', 'Vao', 'Mogadishu', 'Port Keats', 'Sikeston', 'Vanimo', 'Atar', 'Juba', 'Oranjestad', 'Kinablangan', 'Miles City', 'Chapleau', 'Xinqing', 'Molina', 'Pangoa', 'Nantucket', 'Tucumã', 'Bima', 'Canchungo', 'Ramon', 'Srednekolymsk', 'Sept-Îles', 'Ankpa', 'Pouso Alegre', 'Nerchinskiy Zavod', 'Hervey Bay', 'Nam Som', 'Ponta Delgada', 'Katobu', 'Dubinino', 'Karligan', 'Lagos', 'Zliten', 'Kattivākkam', 'Hofn', 'Guane', 'Gannan', 'Inta', 'Quryq', 'Diamantino', 'Dzilam González', 'Ballitoville', 'Ndola', 'Soyo', 'Chernyshkovskiy', 'Quatre Cocos', 'Winslow', 'Sisimiut'].\n"
     ]
    }
   ],
   "source": [
    "# Save config information\n",
    "url = \"http://api.openweathermap.org/data/2.5/weather?\"\n",
    "units = \"metric\"\n",
    "\n",
    "# Build query URL\n",
    "query_url = f\"{url}appid={weather_api_key}&units={units}&q=\"\n",
    "\n",
    "# List to hold responses (storing name, lat dups for simplicity of moving into dictionary)\n",
    "city_num = []\n",
    "city_name = []\n",
    "lat = []\n",
    "temp = []\n",
    "humidity = []\n",
    "clouds = []\n",
    "wind_speed = []\n",
    "\n",
    "# Loop through cities list to perform a request for info on each\n",
    "for city in cities:\n",
    "    \n",
    "    # Create query, make request, and store in json\n",
    "    weather_response = requests.get(query_url + city).json()\n",
    "    \n",
    "    # Grab data where available\n",
    "    try:\n",
    "        city_num.append(weather_response['id'])\n",
    "        city_name.append(weather_response['name'])\n",
    "        lat.append(weather_response['coord']['lat'])\n",
    "        temp.append(weather_response['main']['temp'])\n",
    "        humidity.append(weather_response['main']['humidity'])\n",
    "        clouds.append(weather_response['clouds']['all'])\n",
    "        wind_speed.append(weather_response['wind']['speed'])\n",
    "    \n",
    "    # If any fields are blank, do not append to lists\n",
    "    except:\n",
    "        pass\n",
    "    \n",
    "    # Add 5 second interval between queries to stay within API query limits\n",
    "    time.sleep(5)\n",
    "\n",
    "# Print log\n",
    "print(f\"The weather API responded with: {city_num},{city_name}.\")"
   ]
  },
  {
   "cell_type": "markdown",
   "metadata": {},
   "source": [
    "### Convert Raw Data to DataFrame\n",
    "* Export the city data into a .csv.\n",
    "* Display the DataFrame"
   ]
  },
  {
   "cell_type": "code",
   "execution_count": 4,
   "metadata": {},
   "outputs": [
    {
     "data": {
      "text/html": [
       "<div>\n",
       "<style scoped>\n",
       "    .dataframe tbody tr th:only-of-type {\n",
       "        vertical-align: middle;\n",
       "    }\n",
       "\n",
       "    .dataframe tbody tr th {\n",
       "        vertical-align: top;\n",
       "    }\n",
       "\n",
       "    .dataframe thead th {\n",
       "        text-align: right;\n",
       "    }\n",
       "</style>\n",
       "<table border=\"1\" class=\"dataframe\">\n",
       "  <thead>\n",
       "    <tr style=\"text-align: right;\">\n",
       "      <th></th>\n",
       "      <th>city id</th>\n",
       "      <th>city</th>\n",
       "      <th>lat</th>\n",
       "      <th>temp</th>\n",
       "      <th>humidity</th>\n",
       "      <th>cloudiness</th>\n",
       "      <th>wind speed</th>\n",
       "    </tr>\n",
       "  </thead>\n",
       "  <tbody>\n",
       "    <tr>\n",
       "      <th>0</th>\n",
       "      <td>3369157</td>\n",
       "      <td>Cape Town</td>\n",
       "      <td>-33.9258</td>\n",
       "      <td>19.53</td>\n",
       "      <td>88</td>\n",
       "      <td>0</td>\n",
       "      <td>5.14</td>\n",
       "    </tr>\n",
       "    <tr>\n",
       "      <th>1</th>\n",
       "      <td>2017155</td>\n",
       "      <td>Saskylakh</td>\n",
       "      <td>71.9167</td>\n",
       "      <td>-30.54</td>\n",
       "      <td>83</td>\n",
       "      <td>0</td>\n",
       "      <td>3.03</td>\n",
       "    </tr>\n",
       "    <tr>\n",
       "      <th>2</th>\n",
       "      <td>4031637</td>\n",
       "      <td>Lavrentiya</td>\n",
       "      <td>65.5833</td>\n",
       "      <td>-32.10</td>\n",
       "      <td>80</td>\n",
       "      <td>0</td>\n",
       "      <td>4.15</td>\n",
       "    </tr>\n",
       "    <tr>\n",
       "      <th>3</th>\n",
       "      <td>2075265</td>\n",
       "      <td>Busselton</td>\n",
       "      <td>-33.6500</td>\n",
       "      <td>17.71</td>\n",
       "      <td>68</td>\n",
       "      <td>61</td>\n",
       "      <td>0.89</td>\n",
       "    </tr>\n",
       "    <tr>\n",
       "      <th>4</th>\n",
       "      <td>3402648</td>\n",
       "      <td>Carutapera</td>\n",
       "      <td>-1.1950</td>\n",
       "      <td>25.87</td>\n",
       "      <td>83</td>\n",
       "      <td>100</td>\n",
       "      <td>2.75</td>\n",
       "    </tr>\n",
       "  </tbody>\n",
       "</table>\n",
       "</div>"
      ],
      "text/plain": [
       "   city id        city      lat   temp  humidity  cloudiness  wind speed\n",
       "0  3369157   Cape Town -33.9258  19.53        88           0        5.14\n",
       "1  2017155   Saskylakh  71.9167 -30.54        83           0        3.03\n",
       "2  4031637  Lavrentiya  65.5833 -32.10        80           0        4.15\n",
       "3  2075265   Busselton -33.6500  17.71        68          61        0.89\n",
       "4  3402648  Carutapera  -1.1950  25.87        83         100        2.75"
      ]
     },
     "execution_count": 4,
     "metadata": {},
     "output_type": "execute_result"
    }
   ],
   "source": [
    "# Create dictionary to hold response data for conversion into dataframe\n",
    "weather_dict = {\n",
    "    \"city id\": city_num,\n",
    "    \"city\": city_name,\n",
    "    \"lat\": lat,\n",
    "    \"temp\": temp,\n",
    "    \"humidity\": humidity,\n",
    "    \"cloudiness\": clouds,\n",
    "    \"wind speed\": wind_speed    \n",
    "}\n",
    "\n",
    "# Create dataframe\n",
    "cities_df = pd.DataFrame(weather_dict)\n",
    "\n",
    "# Display dataframe\n",
    "cities_df.head()"
   ]
  },
  {
   "cell_type": "code",
   "execution_count": 5,
   "metadata": {},
   "outputs": [],
   "source": [
    "cities_df.to_csv(\"cities.csv\")"
   ]
  },
  {
   "cell_type": "markdown",
   "metadata": {},
   "source": [
    "## Inspect the data and remove the cities where the humidity > 100%.\n",
    "----\n",
    "Skip this step if there are no cities that have humidity > 100%. "
   ]
  },
  {
   "cell_type": "code",
   "execution_count": 10,
   "metadata": {},
   "outputs": [
    {
     "data": {
      "text/html": [
       "<div>\n",
       "<style scoped>\n",
       "    .dataframe tbody tr th:only-of-type {\n",
       "        vertical-align: middle;\n",
       "    }\n",
       "\n",
       "    .dataframe tbody tr th {\n",
       "        vertical-align: top;\n",
       "    }\n",
       "\n",
       "    .dataframe thead th {\n",
       "        text-align: right;\n",
       "    }\n",
       "</style>\n",
       "<table border=\"1\" class=\"dataframe\">\n",
       "  <thead>\n",
       "    <tr style=\"text-align: right;\">\n",
       "      <th></th>\n",
       "      <th>city id</th>\n",
       "      <th>city</th>\n",
       "      <th>lat</th>\n",
       "      <th>temp</th>\n",
       "      <th>humidity</th>\n",
       "      <th>cloudiness</th>\n",
       "      <th>wind speed</th>\n",
       "    </tr>\n",
       "  </thead>\n",
       "  <tbody>\n",
       "    <tr>\n",
       "      <th>0</th>\n",
       "      <td>3369157</td>\n",
       "      <td>Cape Town</td>\n",
       "      <td>-33.9258</td>\n",
       "      <td>19.53</td>\n",
       "      <td>88</td>\n",
       "      <td>0</td>\n",
       "      <td>5.14</td>\n",
       "    </tr>\n",
       "    <tr>\n",
       "      <th>1</th>\n",
       "      <td>2017155</td>\n",
       "      <td>Saskylakh</td>\n",
       "      <td>71.9167</td>\n",
       "      <td>-30.54</td>\n",
       "      <td>83</td>\n",
       "      <td>0</td>\n",
       "      <td>3.03</td>\n",
       "    </tr>\n",
       "    <tr>\n",
       "      <th>2</th>\n",
       "      <td>4031637</td>\n",
       "      <td>Lavrentiya</td>\n",
       "      <td>65.5833</td>\n",
       "      <td>-32.10</td>\n",
       "      <td>80</td>\n",
       "      <td>0</td>\n",
       "      <td>4.15</td>\n",
       "    </tr>\n",
       "    <tr>\n",
       "      <th>3</th>\n",
       "      <td>2075265</td>\n",
       "      <td>Busselton</td>\n",
       "      <td>-33.6500</td>\n",
       "      <td>17.71</td>\n",
       "      <td>68</td>\n",
       "      <td>61</td>\n",
       "      <td>0.89</td>\n",
       "    </tr>\n",
       "    <tr>\n",
       "      <th>4</th>\n",
       "      <td>3402648</td>\n",
       "      <td>Carutapera</td>\n",
       "      <td>-1.1950</td>\n",
       "      <td>25.87</td>\n",
       "      <td>83</td>\n",
       "      <td>100</td>\n",
       "      <td>2.75</td>\n",
       "    </tr>\n",
       "  </tbody>\n",
       "</table>\n",
       "</div>"
      ],
      "text/plain": [
       "   city id        city      lat   temp  humidity  cloudiness  wind speed\n",
       "0  3369157   Cape Town -33.9258  19.53        88           0        5.14\n",
       "1  2017155   Saskylakh  71.9167 -30.54        83           0        3.03\n",
       "2  4031637  Lavrentiya  65.5833 -32.10        80           0        4.15\n",
       "3  2075265   Busselton -33.6500  17.71        68          61        0.89\n",
       "4  3402648  Carutapera  -1.1950  25.87        83         100        2.75"
      ]
     },
     "execution_count": 10,
     "metadata": {},
     "output_type": "execute_result"
    }
   ],
   "source": [
    "# Import cities.csv so API doesn't need to be called again to work with data\n",
    "final_cities = \"cities.csv\"\n",
    "\n",
    "final_cities_df = pd.read_csv(final_cities)\n",
    "final_cities_df.drop([\"Unnamed: 0\"], axis=1, inplace=True)\n",
    "\n",
    "final_cities_df.head()"
   ]
  },
  {
   "cell_type": "code",
   "execution_count": 20,
   "metadata": {},
   "outputs": [
    {
     "data": {
      "text/html": [
       "<div>\n",
       "<style scoped>\n",
       "    .dataframe tbody tr th:only-of-type {\n",
       "        vertical-align: middle;\n",
       "    }\n",
       "\n",
       "    .dataframe tbody tr th {\n",
       "        vertical-align: top;\n",
       "    }\n",
       "\n",
       "    .dataframe thead th {\n",
       "        text-align: right;\n",
       "    }\n",
       "</style>\n",
       "<table border=\"1\" class=\"dataframe\">\n",
       "  <thead>\n",
       "    <tr style=\"text-align: right;\">\n",
       "      <th></th>\n",
       "      <th>city id</th>\n",
       "      <th>city</th>\n",
       "      <th>lat</th>\n",
       "      <th>temp</th>\n",
       "      <th>humidity</th>\n",
       "      <th>cloudiness</th>\n",
       "      <th>wind speed</th>\n",
       "    </tr>\n",
       "  </thead>\n",
       "  <tbody>\n",
       "  </tbody>\n",
       "</table>\n",
       "</div>"
      ],
      "text/plain": [
       "Empty DataFrame\n",
       "Columns: [city id, city, lat, temp, humidity, cloudiness, wind speed]\n",
       "Index: []"
      ]
     },
     "execution_count": 20,
     "metadata": {},
     "output_type": "execute_result"
    }
   ],
   "source": [
    "# Get the indices of cities that have humidity over 100%.\n",
    "humidity_error = final_cities_df.loc[final_cities_df[\"humidity\"] > 100]\n",
    "humidity_error"
   ]
  },
  {
   "cell_type": "markdown",
   "metadata": {},
   "source": [
    "## Plotting the Data\n",
    "* Use proper labeling of the plots using plot titles (including date of analysis) and axes labels.\n",
    "* Save the plotted figures as .pngs."
   ]
  },
  {
   "cell_type": "markdown",
   "metadata": {},
   "source": [
    "## Latitude vs. Temperature Plot"
   ]
  },
  {
   "cell_type": "code",
   "execution_count": 25,
   "metadata": {
    "scrolled": true
   },
   "outputs": [
    {
     "data": {
      "image/png": "[encoded data removed]",
      "text/plain": [
       "<Figure size 432x288 with 1 Axes>"
      ]
     },
     "metadata": {
      "needs_background": "light"
     },
     "output_type": "display_data"
    }
   ],
   "source": [
    "plt.scatter(final_cities_df.iloc[:,2],final_cities_df.iloc[:,3])\n",
    "plt.xlabel(\"Latitude\")\n",
    "plt.ylabel(\"Temperature (C)\")\n",
    "plt.title(\"Latitude vs. Temperature\")\n",
    "plt.show()"
   ]
  },
  {
   "cell_type": "markdown",
   "metadata": {},
   "source": [
    "## Latitude vs. Humidity Plot"
   ]
  },
  {
   "cell_type": "code",
   "execution_count": 26,
   "metadata": {},
   "outputs": [
    {
     "data": {
      "image/png": "[encoded data removed]",
      "text/plain": [
       "<Figure size 432x288 with 1 Axes>"
      ]
     },
     "metadata": {
      "needs_background": "light"
     },
     "output_type": "display_data"
    }
   ],
   "source": [
    "plt.scatter(final_cities_df.iloc[:,2],final_cities_df.iloc[:,4])\n",
    "plt.xlabel(\"Latitude\")\n",
    "plt.ylabel(\"Humidity\")\n",
    "plt.title(\"Latitude vs. Humidity\")\n",
    "plt.show()"
   ]
  },
  {
   "cell_type": "markdown",
   "metadata": {},
   "source": [
    "## Latitude vs. Cloudiness Plot"
   ]
  },
  {
   "cell_type": "code",
   "execution_count": 27,
   "metadata": {},
   "outputs": [
    {
     "data": {
      "image/png": "[encoded data removed]",
      "text/plain": [
       "<Figure size 432x288 with 1 Axes>"
      ]
     },
     "metadata": {
      "needs_background": "light"
     },
     "output_type": "display_data"
    }
   ],
   "source": [
    "plt.scatter(final_cities_df.iloc[:,2],final_cities_df.iloc[:,5])\n",
    "plt.xlabel(\"Latitude\")\n",
    "plt.ylabel(\"Cloudiness\")\n",
    "plt.title(\"Latitude vs. Cloudiness\")\n",
    "plt.show()"
   ]
  },
  {
   "cell_type": "markdown",
   "metadata": {},
   "source": [
    "## Latitude vs. Wind Speed Plot"
   ]
  },
  {
   "cell_type": "code",
   "execution_count": 28,
   "metadata": {},
   "outputs": [
    {
     "data": {
      "image/png": "[encoded data removed]",
      "text/plain": [
       "<Figure size 432x288 with 1 Axes>"
      ]
     },
     "metadata": {
      "needs_background": "light"
     },
     "output_type": "display_data"
    }
   ],
   "source": [
    "plt.scatter(final_cities_df.iloc[:,2],final_cities_df.iloc[:,6])\n",
    "plt.xlabel(\"Latitude\")\n",
    "plt.ylabel(\"Wind Speed\")\n",
    "plt.title(\"Latitude vs. Wind Speed\")\n",
    "plt.show()"
   ]
  },
  {
   "cell_type": "markdown",
   "metadata": {},
   "source": [
    "## Linear Regression"
   ]
  },
  {
   "cell_type": "markdown",
   "metadata": {},
   "source": [
    "####  Northern Hemisphere - Max Temp vs. Latitude Linear Regression"
   ]
  },
  {
   "cell_type": "code",
   "execution_count": null,
   "metadata": {},
   "outputs": [],
   "source": []
  },
  {
   "cell_type": "markdown",
   "metadata": {},
   "source": [
    "####  Southern Hemisphere - Max Temp vs. Latitude Linear Regression"
   ]
  },
  {
   "cell_type": "code",
   "execution_count": null,
   "metadata": {},
   "outputs": [],
   "source": []
  },
  {
   "cell_type": "markdown",
   "metadata": {},
   "source": [
    "####  Northern Hemisphere - Humidity (%) vs. Latitude Linear Regression"
   ]
  },
  {
   "cell_type": "code",
   "execution_count": null,
   "metadata": {},
   "outputs": [],
   "source": []
  },
  {
   "cell_type": "markdown",
   "metadata": {},
   "source": [
    "####  Southern Hemisphere - Humidity (%) vs. Latitude Linear Regression"
   ]
  },
  {
   "cell_type": "code",
   "execution_count": null,
   "metadata": {},
   "outputs": [],
   "source": []
  },
  {
   "cell_type": "markdown",
   "metadata": {},
   "source": [
    "####  Northern Hemisphere - Cloudiness (%) vs. Latitude Linear Regression"
   ]
  },
  {
   "cell_type": "code",
   "execution_count": null,
   "metadata": {},
   "outputs": [],
   "source": []
  },
  {
   "cell_type": "markdown",
   "metadata": {},
   "source": [
    "####  Southern Hemisphere - Cloudiness (%) vs. Latitude Linear Regression"
   ]
  },
  {
   "cell_type": "code",
   "execution_count": null,
   "metadata": {},
   "outputs": [],
   "source": []
  },
  {
   "cell_type": "markdown",
   "metadata": {},
   "source": [
    "####  Northern Hemisphere - Wind Speed (mph) vs. Latitude Linear Regression"
   ]
  },
  {
   "cell_type": "code",
   "execution_count": null,
   "metadata": {},
   "outputs": [],
   "source": []
  },
  {
   "cell_type": "markdown",
   "metadata": {},
   "source": [
    "####  Southern Hemisphere - Wind Speed (mph) vs. Latitude Linear Regression"
   ]
  },
  {
   "cell_type": "code",
   "execution_count": null,
   "metadata": {},
   "outputs": [],
   "source": []
  }
 ],
 "metadata": {
  "anaconda-cloud": {},
  "kernel_info": {
   "name": "python3"
  },
  "kernelspec": {
   "display_name": "Python 3",
   "language": "python",
   "name": "python3"
  },
  "language_info": {
   "codemirror_mode": {
    "name": "ipython",
    "version": 3
   },
   "file_extension": ".py",
   "mimetype": "text/x-python",
   "name": "python",
   "nbconvert_exporter": "python",
   "pygments_lexer": "ipython3",
   "version": "3.6.10"
  },
  "latex_envs": {
   "LaTeX_envs_menu_present": true,
   "autoclose": false,
   "autocomplete": true,
   "bibliofile": "biblio.bib",
   "cite_by": "apalike",
   "current_citInitial": 1,
   "eqLabelWithNumbers": true,
   "eqNumInitial": 1,
   "hotkeys": {
    "equation": "Ctrl-E",
    "itemize": "Ctrl-I"
   },
   "labels_anchors": false,
   "latex_user_defs": false,
   "report_style_numbering": false,
   "user_envs_cfg": false
  },
  "nteract": {
   "version": "0.12.3"
  }
 },
 "nbformat": 4,
 "nbformat_minor": 2
}
